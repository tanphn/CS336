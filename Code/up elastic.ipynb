{
 "cells": [
  {
   "cell_type": "code",
   "execution_count": 1,
   "id": "eb4cf5ad",
   "metadata": {
    "_cell_guid": "b1076dfc-b9ad-4769-8c92-a6c4dae69d19",
    "_uuid": "8f2839f25d086af736a60e9eeb907d3b93b6e0e5",
    "execution": {
     "iopub.execute_input": "2024-12-25T02:23:54.006501Z",
     "iopub.status.busy": "2024-12-25T02:23:54.006272Z",
     "iopub.status.idle": "2024-12-25T02:23:59.207756Z",
     "shell.execute_reply": "2024-12-25T02:23:59.206578Z"
    },
    "papermill": {
     "duration": 5.20876,
     "end_time": "2024-12-25T02:23:59.210162",
     "exception": false,
     "start_time": "2024-12-25T02:23:54.001402",
     "status": "completed"
    },
    "tags": []
   },
   "outputs": [
    {
     "name": "stdout",
     "output_type": "stream",
     "text": [
      "Collecting elasticsearch\r\n",
      "  Downloading elasticsearch-8.17.0-py3-none-any.whl.metadata (8.8 kB)\r\n",
      "Collecting elastic-transport<9,>=8.15.1 (from elasticsearch)\r\n",
      "  Downloading elastic_transport-8.15.1-py3-none-any.whl.metadata (3.7 kB)\r\n",
      "Requirement already satisfied: urllib3<3,>=1.26.2 in /usr/local/lib/python3.10/dist-packages (from elastic-transport<9,>=8.15.1->elasticsearch) (2.2.3)\r\n",
      "Requirement already satisfied: certifi in /usr/local/lib/python3.10/dist-packages (from elastic-transport<9,>=8.15.1->elasticsearch) (2024.8.30)\r\n",
      "Downloading elasticsearch-8.17.0-py3-none-any.whl (571 kB)\r\n",
      "\u001b[2K   \u001b[90m━━━━━━━━━━━━━━━━━━━━━━━━━━━━━━━━━━━━━━━━\u001b[0m \u001b[32m571.2/571.2 kB\u001b[0m \u001b[31m13.1 MB/s\u001b[0m eta \u001b[36m0:00:00\u001b[0m\r\n",
      "\u001b[?25hDownloading elastic_transport-8.15.1-py3-none-any.whl (64 kB)\r\n",
      "\u001b[2K   \u001b[90m━━━━━━━━━━━━━━━━━━━━━━━━━━━━━━━━━━━━━━━━\u001b[0m \u001b[32m64.4/64.4 kB\u001b[0m \u001b[31m4.8 MB/s\u001b[0m eta \u001b[36m0:00:00\u001b[0m\r\n",
      "\u001b[?25hInstalling collected packages: elastic-transport, elasticsearch\r\n",
      "Successfully installed elastic-transport-8.15.1 elasticsearch-8.17.0\r\n"
     ]
    }
   ],
   "source": [
    "!pip install elasticsearch"
   ]
  },
  {
   "cell_type": "code",
   "execution_count": 2,
   "id": "bf5b24a2",
   "metadata": {
    "execution": {
     "iopub.execute_input": "2024-12-25T02:23:59.219522Z",
     "iopub.status.busy": "2024-12-25T02:23:59.219133Z",
     "iopub.status.idle": "2024-12-25T02:23:59.811241Z",
     "shell.execute_reply": "2024-12-25T02:23:59.810300Z"
    },
    "papermill": {
     "duration": 0.598615,
     "end_time": "2024-12-25T02:23:59.812711",
     "exception": false,
     "start_time": "2024-12-25T02:23:59.214096",
     "status": "completed"
    },
    "tags": []
   },
   "outputs": [
    {
     "name": "stdout",
     "output_type": "stream",
     "text": [
      "Connected to Elasticsearch\n"
     ]
    }
   ],
   "source": [
    "from elasticsearch import Elasticsearch\n",
    "es = Elasticsearch(\n",
    "    cloud_id=\"154429e62277481486a87de00a5ac969:dXMtY2VudHJhbDEuZ2NwLmNsb3VkLmVzLmlvJGQ3ODZhN2Q1N2IyMTRjY2ViNWU5MWRmZWNhMDIxNTg3JGIxMzJiZGFjZmZlNTQ3MGJiZGY3MDIwY2MyNWRiNGRm\",\n",
    "    api_key=\"S0R5ZC1aTUJ4MW5lOXZRQlh6Y2M6MUpHUU1BWGRSMUtJVmh3dHpuX0hnZw==\"\n",
    ")\n",
    "if es.ping():\n",
    "    print(\"Connected to Elasticsearch\")\n",
    "else:\n",
    "    raise ConnectionError(\"Failed to connect to Elasticsearch\")"
   ]
  },
  {
   "cell_type": "code",
   "execution_count": 3,
   "id": "03406383",
   "metadata": {
    "execution": {
     "iopub.execute_input": "2024-12-25T02:23:59.818116Z",
     "iopub.status.busy": "2024-12-25T02:23:59.817787Z",
     "iopub.status.idle": "2024-12-25T02:24:12.691897Z",
     "shell.execute_reply": "2024-12-25T02:24:12.690342Z"
    },
    "papermill": {
     "duration": 12.878535,
     "end_time": "2024-12-25T02:24:12.693592",
     "exception": false,
     "start_time": "2024-12-25T02:23:59.815057",
     "status": "completed"
    },
    "tags": []
   },
   "outputs": [],
   "source": [
    "import h5py\n",
    "import pandas as pd\n",
    "\n",
    "# Đường dẫn file\n",
    "csv_path = '/kaggle/input/encodefinetune/second_half.csv'\n",
    "h5_path = '/kaggle/input/encodefinetune/second_half_dvt_embeddings.h5'\n",
    "\n",
    "# Đọc dữ liệu CSV\n",
    "corpus_data = pd.read_csv(csv_path)\n",
    "\n",
    "# Đọc dữ liệu từ HDF5\n",
    "with h5py.File(h5_path, 'r') as h5_file:\n",
    "    embeddings = h5_file['embeddings'][:]  # Lấy embeddings từ HDF5"
   ]
  },
  {
   "cell_type": "code",
   "execution_count": 4,
   "id": "1dcdfa7c",
   "metadata": {
    "execution": {
     "iopub.execute_input": "2024-12-25T02:24:12.701179Z",
     "iopub.status.busy": "2024-12-25T02:24:12.700908Z",
     "iopub.status.idle": "2024-12-25T02:24:12.706117Z",
     "shell.execute_reply": "2024-12-25T02:24:12.705346Z"
    },
    "papermill": {
     "duration": 0.011159,
     "end_time": "2024-12-25T02:24:12.707399",
     "exception": false,
     "start_time": "2024-12-25T02:24:12.696240",
     "status": "completed"
    },
    "tags": []
   },
   "outputs": [
    {
     "data": {
      "text/plain": [
       "(131627, 1024)"
      ]
     },
     "execution_count": 4,
     "metadata": {},
     "output_type": "execute_result"
    }
   ],
   "source": [
    "embeddings.shape"
   ]
  },
  {
   "cell_type": "code",
   "execution_count": null,
   "id": "13c612ae",
   "metadata": {},
   "outputs": [],
   "source": [
    "index_name = \"jin-ai-finetune1\"\n",
    "\n",
    "# Tạo mapping với các trường dense và sparse embeddings\n",
    "mapping = {\n",
    "    \"mappings\": {\n",
    "        \"properties\": {\n",
    "            \"cid\": {\"type\": \"keyword\"},  # keyword để lưu dạng string không phân tích cú pháp\n",
    "            \"text\": {\"type\": \"text\"},\n",
    "            \"dense_embeddings\": {\n",
    "                \"type\": \"dense_vector\",\n",
    "                \"dims\": 1024\n",
    "            }\n",
    "        }\n",
    "    }\n",
    "}\n",
    "\n",
    "# Tạo index\n",
    "if not es.indices.exists(index=index_name):\n",
    "    es.indices.create(index=index_name, body=mapping)\n",
    "    print(f\"Tạo index '{index_name}' thành công.\")\n",
    "else:\n",
    "    print(f\"Index '{index_name}' đã tồn tại.\")"
   ]
  },
  {
   "cell_type": "code",
   "execution_count": 5,
   "id": "8404b395",
   "metadata": {
    "execution": {
     "iopub.execute_input": "2024-12-25T02:24:12.716724Z",
     "iopub.status.busy": "2024-12-25T02:24:12.716514Z",
     "iopub.status.idle": "2024-12-25T04:04:38.734551Z",
     "shell.execute_reply": "2024-12-25T04:04:38.733640Z"
    },
    "papermill": {
     "duration": 6026.021985,
     "end_time": "2024-12-25T04:04:38.735862",
     "exception": false,
     "start_time": "2024-12-25T02:24:12.713877",
     "status": "completed"
    },
    "tags": []
   },
   "outputs": [
    {
     "name": "stderr",
     "output_type": "stream",
     "text": [
      "Uploading documents: 131627document [1:40:25, 21.84document/s]"
     ]
    },
    {
     "name": "stdout",
     "output_type": "stream",
     "text": [
      "Dữ liệu đã được tải lên Elasticsearch.\n"
     ]
    },
    {
     "name": "stderr",
     "output_type": "stream",
     "text": [
      "\n"
     ]
    }
   ],
   "source": [
    "from tqdm import tqdm\n",
    "index_name = \"jin-ai-finetune1\"\n",
    "# Lặp qua từng dòng trong corpus_data\n",
    "for i, row in tqdm(corpus_data.iterrows(), desc=\"Uploading documents\", unit=\"document\"):\n",
    "    document = {\n",
    "        \"cid\": str(row[\"cid\"]),  # Lấy CID từ CSV\n",
    "        \"text\": row[\"text\"],  # Văn bản từ CSV\n",
    "        \"dense_embeddings\": embeddings[i].tolist(),  # Embeddings tương ứng từ HDF5\n",
    "    }\n",
    "\n",
    "    # Tải tài liệu lên Elasticsearch\n",
    "    es.index(index=index_name, body=document)\n",
    "\n",
    "print(\"Dữ liệu đã được tải lên Elasticsearch.\")"
   ]
  },
  {
   "cell_type": "code",
   "execution_count": 6,
   "id": "4f71496d",
   "metadata": {
    "execution": {
     "iopub.execute_input": "2024-12-25T04:04:42.928245Z",
     "iopub.status.busy": "2024-12-25T04:04:42.927898Z",
     "iopub.status.idle": "2024-12-25T04:04:43.088848Z",
     "shell.execute_reply": "2024-12-25T04:04:43.088053Z"
    },
    "papermill": {
     "duration": 2.221478,
     "end_time": "2024-12-25T04:04:43.090088",
     "exception": false,
     "start_time": "2024-12-25T04:04:40.868610",
     "status": "completed"
    },
    "tags": []
   },
   "outputs": [
    {
     "name": "stdout",
     "output_type": "stream",
     "text": [
      "Số lượng tài liệu trong index 'jin-ai-finetune1': 263254\n"
     ]
    }
   ],
   "source": [
    "# Kiểm tra số lượng tài liệu trong Elasticsearch\n",
    "index_name = \"jin-ai-finetune1\"\n",
    "\n",
    "response = es.count(index=index_name)\n",
    "\n",
    "# In ra số lượng tài liệu\n",
    "print(f\"Số lượng tài liệu trong index '{index_name}': {response['count']}\")"
   ]
  }
 ],
 "metadata": {
  "kaggle": {
   "accelerator": "nvidiaTeslaT4",
   "dataSources": [
    {
     "datasetId": 6367891,
     "sourceId": 10289366,
     "sourceType": "datasetVersion"
    }
   ],
   "dockerImageVersionId": 30822,
   "isGpuEnabled": true,
   "isInternetEnabled": true,
   "language": "python",
   "sourceType": "notebook"
  },
  "kernelspec": {
   "display_name": "Python 3",
   "language": "python",
   "name": "python3"
  },
  "language_info": {
   "codemirror_mode": {
    "name": "ipython",
    "version": 3
   },
   "file_extension": ".py",
   "mimetype": "text/x-python",
   "name": "python",
   "nbconvert_exporter": "python",
   "pygments_lexer": "ipython3",
   "version": "3.10.12"
  },
  "papermill": {
   "default_parameters": {},
   "duration": 6053.868714,
   "end_time": "2024-12-25T04:04:45.752845",
   "environment_variables": {},
   "exception": null,
   "input_path": "__notebook__.ipynb",
   "output_path": "__notebook__.ipynb",
   "parameters": {},
   "start_time": "2024-12-25T02:23:51.884131",
   "version": "2.6.0"
  }
 },
 "nbformat": 4,
 "nbformat_minor": 5
}
