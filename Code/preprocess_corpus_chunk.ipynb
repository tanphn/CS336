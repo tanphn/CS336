{
  "nbformat": 4,
  "nbformat_minor": 0,
  "metadata": {
    "colab": {
      "provenance": []
    },
    "kernelspec": {
      "name": "python3",
      "display_name": "Python 3"
    },
    "language_info": {
      "name": "python"
    }
  },
  "cells": [
    {
      "cell_type": "code",
      "execution_count": null,
      "metadata": {
        "id": "w5VuGyvknkik"
      },
      "outputs": [],
      "source": [
        "import pandas as pd\n",
        "from langchain.text_splitter import RecursiveCharacterTextSplitter, CharacterTextSplitter\n",
        "from langchain.text_splitter import TokenTextSplitter"
      ]
    },
    {
      "cell_type": "code",
      "source": [
        "corpus = pd.read_csv('/content/drive/MyDrive/BKAI_2/DATA/corpus.csv')"
      ],
      "metadata": {
        "id": "f-tGVB76okE7"
      },
      "execution_count": null,
      "outputs": []
    },
    {
      "cell_type": "code",
      "source": [
        "def count_words(text):\n",
        "    \"\"\"Counts the number of words in a given text.\"\"\"\n",
        "    return len(text.split())"
      ],
      "metadata": {
        "id": "MDLVnMEHxPZL"
      },
      "execution_count": null,
      "outputs": []
    },
    {
      "cell_type": "code",
      "source": [
        "char_splitter = CharacterTextSplitter(\n",
        "    separator=\" \",\n",
        "    chunk_size=1024,\n",
        "    chunk_overlap=128,\n",
        "    length_function=len\n",
        ")\n",
        "char_chunks = char_splitter.split_text(text)\n",
        "for i, chunk in enumerate(char_chunks):\n",
        "    print(f\"Chunk {i+1}: {chunk}\\n\")"
      ],
      "metadata": {
        "colab": {
          "base_uri": "https://localhost:8080/"
        },
        "id": "L2q-NBPmqFTt",
        "outputId": "e85b63dd-d7e7-478b-c8ce-3a52438107ae"
      },
      "execution_count": null,
      "outputs": [
        {
          "output_type": "stream",
          "name": "stdout",
          "text": [
            "Chunk 1: LangChain là một framework giúp phát triển các ứng dụng được hỗ trợ bởi các mô hình ngôn ngữ.\n",
            "Framework này giúp tạo ra các ứng dụng có thể:\n",
            "1. Phân tích dữ liệu với context\n",
            "2. Tương tác với các nguồn dữ liệu khác nhau\n",
            "3. Tạo ra các chuỗi xử lý phức tạp\n",
            "\n"
          ]
        }
      ]
    },
    {
      "cell_type": "code",
      "source": [
        "new_rows = []\n",
        "arr = []\n",
        "from tqdm import tqdm\n",
        "\n",
        "\n",
        "for i in tqdm(range(len(corpus)), desc=\"Xử lý văn bản\"):\n",
        "    #processed_text = tien_xu_li(corpus.iloc[i]['text'])\n",
        "    processed_text = corpus.iloc[i]['text']\n",
        "\n",
        "\n",
        "    # Nếu văn bản quá dài, thực hiện chia nhỏ\n",
        "    if count_words(processed_text) > 1024:\n",
        "        char_chunks = char_splitter.split_text(processed_text)\n",
        "\n",
        "        for ii, chunk in enumerate(char_chunks):\n",
        "            new_row_text = chunk\n",
        "            new_row_cid = f\"{corpus.iloc[i]['cid']}_{ii}\"\n",
        "            arr.append((str(new_row_cid), new_row_text))\n",
        "\n",
        "    else:\n",
        "        corpus.iloc[i]['text'] = processed_text\n",
        "        arr.append((corpus.iloc[i]['cid'], corpus.iloc[i]['text']))"
      ],
      "metadata": {
        "colab": {
          "base_uri": "https://localhost:8080/"
        },
        "id": "fWTMMgGWoigN",
        "outputId": "c17d1a34-1f59-47eb-8f1b-c0c7c72e8b26"
      },
      "execution_count": null,
      "outputs": [
        {
          "output_type": "stream",
          "name": "stderr",
          "text": [
            "Xử lý văn bản:   0%|          | 0/261597 [00:00<?, ?it/s]<ipython-input-37-3f11e4918a86>:21: SettingWithCopyWarning: \n",
            "A value is trying to be set on a copy of a slice from a DataFrame\n",
            "\n",
            "See the caveats in the documentation: https://pandas.pydata.org/pandas-docs/stable/user_guide/indexing.html#returning-a-view-versus-a-copy\n",
            "  corpus.iloc[i]['text'] = processed_text\n",
            "Xử lý văn bản: 100%|██████████| 261597/261597 [01:31<00:00, 2850.48it/s]\n"
          ]
        }
      ]
    },
    {
      "cell_type": "code",
      "source": [
        "df_new = pd.DataFrame(arr, columns=['cid', 'text'])\n"
      ],
      "metadata": {
        "colab": {
          "base_uri": "https://localhost:8080/"
        },
        "id": "AA_cWqLvxYUg",
        "outputId": "79a724d7-7e88-4cf4-837c-cc9ffa20ae1a"
      },
      "execution_count": null,
      "outputs": [
        {
          "output_type": "stream",
          "name": "stdout",
          "text": [
            "  cid                                               text\n",
            "0   0  Thông tư này hướng dẫn tuần tra, canh gác bảo ...\n",
            "1   1  1. Hàng năm trước mùa mưa, lũ, Ủy ban nhân dân...\n",
            "2   2  Tiêu chuẩn của các thành viên thuộc lực lượng ...\n",
            "3   3  Nhiệm vụ của lực lượng tuần tra, canh gác đê\\n...\n",
            "4   4  Phù hiệu của lực lượng tuần tra, canh gác đê\\n...\n"
          ]
        }
      ]
    },
    {
      "cell_type": "code",
      "source": [
        "df_new.iloc[223012]"
      ],
      "metadata": {
        "colab": {
          "base_uri": "https://localhost:8080/",
          "height": 147
        },
        "id": "p6LRSXENzBm2",
        "outputId": "659f3014-20c0-42a2-fdac-b036f1ef8151"
      },
      "execution_count": null,
      "outputs": [
        {
          "output_type": "execute_result",
          "data": {
            "text/plain": [
              "cid                                                559786\n",
              "text    Khoản 2. Từng sản phẩm sản xuất hàng loạt phải...\n",
              "Name: 223012, dtype: object"
            ],
            "text/html": [
              "<div>\n",
              "<style scoped>\n",
              "    .dataframe tbody tr th:only-of-type {\n",
              "        vertical-align: middle;\n",
              "    }\n",
              "\n",
              "    .dataframe tbody tr th {\n",
              "        vertical-align: top;\n",
              "    }\n",
              "\n",
              "    .dataframe thead th {\n",
              "        text-align: right;\n",
              "    }\n",
              "</style>\n",
              "<table border=\"1\" class=\"dataframe\">\n",
              "  <thead>\n",
              "    <tr style=\"text-align: right;\">\n",
              "      <th></th>\n",
              "      <th>223012</th>\n",
              "    </tr>\n",
              "  </thead>\n",
              "  <tbody>\n",
              "    <tr>\n",
              "      <th>cid</th>\n",
              "      <td>559786</td>\n",
              "    </tr>\n",
              "    <tr>\n",
              "      <th>text</th>\n",
              "      <td>Khoản 2. Từng sản phẩm sản xuất hàng loạt phải...</td>\n",
              "    </tr>\n",
              "  </tbody>\n",
              "</table>\n",
              "</div><br><label><b>dtype:</b> object</label>"
            ]
          },
          "metadata": {},
          "execution_count": 42
        }
      ]
    },
    {
      "cell_type": "code",
      "source": [
        "df_new.to_csv('/content/drive/MyDrive/BKAI_2/DATA/data_1024_chunk.csv', index=False)"
      ],
      "metadata": {
        "id": "fi3dYgefzCsx"
      },
      "execution_count": null,
      "outputs": []
    }
  ]
}